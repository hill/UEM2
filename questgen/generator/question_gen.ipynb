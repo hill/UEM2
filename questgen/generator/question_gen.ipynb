{
 "cells": [
  {
   "cell_type": "code",
   "execution_count": 2,
   "source": [
    "from pipelines import pipeline"
   ],
   "outputs": [],
   "metadata": {}
  },
  {
   "cell_type": "code",
   "execution_count": 11,
   "source": [
    "# nlp = pipeline(\"multitask-qa-qg\", model=\"valhalla/t5-base-qa-qg-hl\")\n",
    "nlp = pipeline(\"multitask-qa-qg\")"
   ],
   "outputs": [],
   "metadata": {}
  },
  {
   "cell_type": "code",
   "execution_count": 10,
   "source": [
    "text = \"Python is an interpreted, high-level, general-purpose programming language.\"\n",
    "text2 = \"Duncan Hill Property offers a boutique service in property management for the Southern Highlands that is based on excellence, timely action and a sense of responsibility for your valuable asset. On call seven days a week, we have local knowledge, rigorous selection processes and a thorough knowledge of the current rental property landscape across the Southern Highlands. We provide you with sustainable and realistic rental expectations and a first-rate management service.\"\n",
    "text3 = \"MDPs are a classical formalization of sequential decision making, where actions influence not just immediate rewards, but also subsequent situations, or states, and through those future rewards. Thus MDPs involve delayed reward and the need to tradeo↵ immediate and delayed reward. Whereas in bandit problems we estimated the value q⇤(a) of each action a, in MDPs we estimate the value q⇤(s,a) of each action a in each state s, or we estimate the value v⇤(s) of each state given optimal action selections. These state-dependent quantities are essential to accurately assigning credit for long-term consequences to individual action selections.\"\n",
    "text4 = \"\"\"\n",
    "Logging the process of tracking and recording key events that occur in our applications. We want to log events so we can use them to inspect processes, fix issues, etc. They're a whole lot more powerful than print statements because they allow us to send specific pieces of information to specific locations, not to mention custom formatting, shared interface with other Python packages, etc. We should use logging to provide insight into the internal processes of our application to notify our users of the important events that are occurring.\n",
    "\"\"\"\n",
    "\n",
    "nlp(text4)"
   ],
   "outputs": [
    {
     "output_type": "execute_result",
     "data": {
      "text/plain": [
       "[{'answer': 'tracking and recording key events',\n",
       "  'question': 'How do we log events?'},\n",
       " {'answer': 'to inspect processes, fix issues, etc.',\n",
       "  'question': 'What do we want to log events so we can use them?'},\n",
       " {'answer': 'they allow us to send specific pieces of information to specific locations',\n",
       "  'question': 'What does logging allow us to send specific pieces of information to?'},\n",
       " {'answer': 'logging',\n",
       "  'question': 'What should we use to provide insight into the internal processes of our application?'}]"
      ]
     },
     "metadata": {},
     "execution_count": 10
    }
   ],
   "metadata": {}
  },
  {
   "cell_type": "code",
   "execution_count": null,
   "source": [],
   "outputs": [],
   "metadata": {}
  }
 ],
 "metadata": {
  "orig_nbformat": 4,
  "language_info": {
   "name": "python",
   "version": "3.9.0",
   "mimetype": "text/x-python",
   "codemirror_mode": {
    "name": "ipython",
    "version": 3
   },
   "pygments_lexer": "ipython3",
   "nbconvert_exporter": "python",
   "file_extension": ".py"
  },
  "kernelspec": {
   "name": "python3",
   "display_name": "Python 3.9.0 64-bit ('questgen-6REHe4lW-py3.9': poetry)"
  },
  "interpreter": {
   "hash": "45d7497ea6b231d21b265620d8e73c5ba40bd7eae2cc2a746a407deda2003173"
  }
 },
 "nbformat": 4,
 "nbformat_minor": 2
}